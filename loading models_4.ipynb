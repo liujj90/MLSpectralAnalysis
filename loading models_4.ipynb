{
 "cells": [
  {
   "cell_type": "markdown",
   "metadata": {},
   "source": [
    "## Loading saved models\n",
    "\n",
    "- Example code for loading saved models generated and saved by \"full dataset ML.ipynb\"\n",
    "- input: raw spectral data \n",
    "- output: 4 predicted values"
   ]
  },
  {
   "cell_type": "code",
   "execution_count": 100,
   "metadata": {
    "collapsed": true
   },
   "outputs": [],
   "source": [
    "## load libraries\n",
    "import math\n",
    "import pandas as pd\n",
    "import numpy as np\n",
    "from sklearn.externals import joblib\n",
    "from keras.models import Sequential\n",
    "from keras.layers import Dense\n",
    "import keras.regularizers as kr\n",
    "from keras.models import load_model"
   ]
  },
  {
   "cell_type": "code",
   "execution_count": 1,
   "metadata": {
    "collapsed": true
   },
   "outputs": [],
   "source": [
    "def avg_over_col(df, num_col):\n",
    "    new_df = pd.DataFrame()\n",
    "    curr_col = 0\n",
    "    for i in range(num_col,len(df.columns)+1, num_col):\n",
    "        working_df = df.iloc[:,curr_col:i]\n",
    "        colname = str(working_df.columns[0])\n",
    "        new_df[colname]=working_df.mean(axis = 1)\n",
    "        curr_col += num_col\n",
    "    return(new_df)"
   ]
  },
  {
   "cell_type": "code",
   "execution_count": 89,
   "metadata": {
    "collapsed": true
   },
   "outputs": [],
   "source": [
    "# read file, output values averaged over 4 wavelengths, wide format\n",
    "def read_pre_process(filename): \n",
    "    file = pd.read_table(filename, header = None, index_col = None )\n",
    "    file.columns = ['to_del','Wavelength', 'Intensity']\n",
    "    file = file.drop('to_del', axis = 1)\n",
    "    file['Wavelength']=file['Wavelength'].apply(lambda x: math.floor(x))\n",
    "    file = file.groupby(['Wavelength']).agg(np.mean).reset_index()\n",
    "    file = file[file['Wavelength'].between(450, 850)].set_index('Wavelength')\n",
    "    return file.transpose()"
   ]
  },
  {
   "cell_type": "code",
   "execution_count": 92,
   "metadata": {
    "collapsed": false
   },
   "outputs": [],
   "source": [
    "# normalization and standardization models\n",
    "norms = joblib.load('normalizer.save')\n",
    "stds = joblib.load('standarizer.save')"
   ]
  },
  {
   "cell_type": "code",
   "execution_count": 90,
   "metadata": {
    "collapsed": false
   },
   "outputs": [],
   "source": [
    "# read anad preprocess data\n",
    "## input: data with headers as wavelengths\n",
    "\n",
    "filename = 'test.txt'\n",
    "df = read_pre_process(filename)"
   ]
  },
  {
   "cell_type": "code",
   "execution_count": 96,
   "metadata": {
    "collapsed": false
   },
   "outputs": [],
   "source": [
    "df_norm = avg_over_col(pd.DataFrame(norms.transform(df), columns = df.columns),4)\n",
    "df_std = avg_over_col(pd.DataFrame(stds.transform(df), columns = df.columns),4)"
   ]
  },
  {
   "cell_type": "code",
   "execution_count": 101,
   "metadata": {
    "collapsed": true
   },
   "outputs": [],
   "source": [
    "# load keras models \n",
    "sigmoid_model_n = load_model('sigmoid_norm.h5')\n",
    "sigmoid_L1_model_n =load_model('sigmoid_L1_norm.h5')\n",
    "sigmoid_model_s = load_model('sigmoid_std.h5')\n",
    "sigmoid_L1_model_s = load_model('sigmoid_L1_std.h5')"
   ]
  },
  {
   "cell_type": "code",
   "execution_count": 102,
   "metadata": {
    "collapsed": false
   },
   "outputs": [
    {
     "data": {
      "text/plain": [
       "array([[ 3.88969898]], dtype=float32)"
      ]
     },
     "execution_count": 102,
     "metadata": {},
     "output_type": "execute_result"
    }
   ],
   "source": [
    "sigmoid_model_n.predict(df_norm)"
   ]
  },
  {
   "cell_type": "code",
   "execution_count": 104,
   "metadata": {
    "collapsed": false
   },
   "outputs": [
    {
     "data": {
      "text/plain": [
       "array([[ 3.86917067]], dtype=float32)"
      ]
     },
     "execution_count": 104,
     "metadata": {},
     "output_type": "execute_result"
    }
   ],
   "source": [
    "sigmoid_L1_model_n.predict(df_norm)"
   ]
  },
  {
   "cell_type": "code",
   "execution_count": 105,
   "metadata": {
    "collapsed": false
   },
   "outputs": [
    {
     "data": {
      "text/plain": [
       "array([[ 4.10934877]], dtype=float32)"
      ]
     },
     "execution_count": 105,
     "metadata": {},
     "output_type": "execute_result"
    }
   ],
   "source": [
    "sigmoid_model_s.predict(df_std)"
   ]
  },
  {
   "cell_type": "code",
   "execution_count": 106,
   "metadata": {
    "collapsed": false
   },
   "outputs": [
    {
     "data": {
      "text/plain": [
       "array([[ 4.14122009]], dtype=float32)"
      ]
     },
     "execution_count": 106,
     "metadata": {},
     "output_type": "execute_result"
    }
   ],
   "source": [
    "sigmoid_L1_model_s.predict(df_std)"
   ]
  },
  {
   "cell_type": "code",
   "execution_count": null,
   "metadata": {
    "collapsed": true
   },
   "outputs": [],
   "source": []
  }
 ],
 "metadata": {
  "kernelspec": {
   "display_name": "Python 3",
   "language": "python",
   "name": "python3"
  },
  "language_info": {
   "codemirror_mode": {
    "name": "ipython",
    "version": 3
   },
   "file_extension": ".py",
   "mimetype": "text/x-python",
   "name": "python",
   "nbconvert_exporter": "python",
   "pygments_lexer": "ipython3",
   "version": "3.4.3"
  }
 },
 "nbformat": 4,
 "nbformat_minor": 2
}
